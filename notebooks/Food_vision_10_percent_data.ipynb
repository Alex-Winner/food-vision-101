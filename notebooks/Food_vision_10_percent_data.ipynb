{
 "cells": [
  {
   "cell_type": "markdown",
   "metadata": {},
   "source": [
    "# Image Classification on Food 101 (10% of the data)"
   ]
  },
  {
   "cell_type": "markdown",
   "metadata": {},
   "source": [
    "## Table of contents\n",
    "\n",
    "1. [Check system resourses](#check-system-resourses) \n",
    "2. [Downloading and preprocessing the data](#downloading-and-preprocessing-the-data)"
   ]
  },
  {
   "cell_type": "markdown",
   "metadata": {},
   "source": [
    "# Model Expirements\n",
    "* change the global avarage layer to global maximum layer\n",
    "* add dropout layer "
   ]
  },
  {
   "cell_type": "markdown",
   "metadata": {},
   "source": [
    "## Check system resourses"
   ]
  },
  {
   "cell_type": "code",
   "execution_count": 26,
   "metadata": {},
   "outputs": [],
   "source": [
    "# remove system logs\n",
    "import os\n",
    "os.environ[\"TF_CPP_MIN_LOG_LEVEL\"] = \"3\" # or any {\"0\", \"1\", \"2\"}"
   ]
  },
  {
   "cell_type": "code",
   "execution_count": 1,
   "metadata": {
    "vscode": {
     "languageId": "shellscript"
    }
   },
   "outputs": [
    {
     "name": "stdout",
     "output_type": "stream",
     "text": [
      "/bin/bash: /root/miniconda3/envs/tf2/lib/libtinfo.so.6: no version information available (required by /bin/bash)\n",
      "GPU 0: NVIDIA GeForce RTX 3070 (UUID: GPU-17663cf8-e59a-a0ea-7337-d7a8097f2cae)\n"
     ]
    }
   ],
   "source": [
    "!nvidia-smi -L"
   ]
  },
  {
   "cell_type": "code",
   "execution_count": 5,
   "metadata": {},
   "outputs": [],
   "source": [
    "import sys\n",
    "sys.path.append('../')\n",
    "from scripts.helper_functions import create_tensorboard_callback, plot_loss_curves, unzip_data, compare_historys, walk_through_dir"
   ]
  },
  {
   "cell_type": "markdown",
   "metadata": {},
   "source": [
    "## Downloading and preprocessing the data"
   ]
  },
  {
   "cell_type": "code",
   "execution_count": 33,
   "metadata": {
    "vscode": {
     "languageId": "shellscript"
    }
   },
   "outputs": [
    {
     "name": "stdout",
     "output_type": "stream",
     "text": [
      "/bin/bash: /root/miniconda3/envs/tf2/lib/libtinfo.so.6: no version information available (required by /bin/bash)\n",
      "--2023-11-10 17:34:29--  https://storage.googleapis.com/ztm_tf_course/food_vision/101_food_classes_10_percent.zip\n",
      "Resolving storage.googleapis.com (storage.googleapis.com)... 172.217.22.59, 172.217.22.27, 142.251.37.91, ...\n",
      "Connecting to storage.googleapis.com (storage.googleapis.com)|172.217.22.59|:443... connected.\n",
      "HTTP request sent, awaiting response... 200 OK\n",
      "Length: 1625420029 (1.5G) [application/zip]\n",
      "Saving to: ‘../data/Food_vision_10_percent/101_food_classes_10_percent.zip’\n",
      "\n",
      "101_food_classes_10 100%[===================>]   1.51G  18.0MB/s    in 81s     \n",
      "\n",
      "2023-11-10 17:35:50 (19.2 MB/s) - ‘../data/Food_vision_10_percent/101_food_classes_10_percent.zip’ saved [1625420029/1625420029]\n",
      "\n"
     ]
    }
   ],
   "source": [
    "\n",
    "# Download data from Google Storage (already preformatted)\n",
    "!wget https://storage.googleapis.com/ztm_tf_course/food_vision/101_food_classes_10_percent.zip -P ../data/Food_vision_10_percent/"
   ]
  },
  {
   "cell_type": "code",
   "execution_count": 31,
   "metadata": {},
   "outputs": [],
   "source": [
    "data_dir = \"../data/Food_vision_10_percent/\"\n",
    "file_name = \"101_food_classes_10_percent.zip\""
   ]
  },
  {
   "cell_type": "code",
   "execution_count": 34,
   "metadata": {},
   "outputs": [],
   "source": [
    "\n",
    "unzip_data(data_dir + file_name, work_dir=False)\n"
   ]
  },
  {
   "cell_type": "code",
   "execution_count": 6,
   "metadata": {},
   "outputs": [],
   "source": [
    "\n",
    "train_dir = data_dir + \"101_food_classes_10_percent/train/\"\n",
    "test_dir = data_dir + \"101_food_classes_10_percent/test/\""
   ]
  },
  {
   "cell_type": "code",
   "execution_count": 7,
   "metadata": {},
   "outputs": [
    {
     "name": "stdout",
     "output_type": "stream",
     "text": [
      "There are 2 directories and 0 images in '/mnt/d/DATA/Food_vision_10_percent/101_food_classes_10_percent'.\n",
      "There are 101 directories and 0 images in '/mnt/d/DATA/Food_vision_10_percent/101_food_classes_10_percent/test'.\n",
      "There are 0 directories and 250 images in '/mnt/d/DATA/Food_vision_10_percent/101_food_classes_10_percent/test/apple_pie'.\n",
      "There are 0 directories and 250 images in '/mnt/d/DATA/Food_vision_10_percent/101_food_classes_10_percent/test/baby_back_ribs'.\n",
      "There are 0 directories and 250 images in '/mnt/d/DATA/Food_vision_10_percent/101_food_classes_10_percent/test/baklava'.\n",
      "There are 0 directories and 250 images in '/mnt/d/DATA/Food_vision_10_percent/101_food_classes_10_percent/test/beef_carpaccio'.\n",
      "There are 0 directories and 250 images in '/mnt/d/DATA/Food_vision_10_percent/101_food_classes_10_percent/test/beef_tartare'.\n",
      "There are 0 directories and 250 images in '/mnt/d/DATA/Food_vision_10_percent/101_food_classes_10_percent/test/beet_salad'.\n",
      "There are 0 directories and 250 images in '/mnt/d/DATA/Food_vision_10_percent/101_food_classes_10_percent/test/beignets'.\n",
      "There are 0 directories and 250 images in '/mnt/d/DATA/Food_vision_10_percent/101_food_classes_10_percent/test/bibimbap'.\n",
      "There are 0 directories and 250 images in '/mnt/d/DATA/Food_vision_10_percent/101_food_classes_10_percent/test/bread_pudding'.\n",
      "There are 0 directories and 250 images in '/mnt/d/DATA/Food_vision_10_percent/101_food_classes_10_percent/test/breakfast_burrito'.\n",
      "There are 0 directories and 250 images in '/mnt/d/DATA/Food_vision_10_percent/101_food_classes_10_percent/test/bruschetta'.\n",
      "There are 0 directories and 250 images in '/mnt/d/DATA/Food_vision_10_percent/101_food_classes_10_percent/test/caesar_salad'.\n",
      "There are 0 directories and 250 images in '/mnt/d/DATA/Food_vision_10_percent/101_food_classes_10_percent/test/cannoli'.\n",
      "There are 0 directories and 250 images in '/mnt/d/DATA/Food_vision_10_percent/101_food_classes_10_percent/test/caprese_salad'.\n",
      "There are 0 directories and 250 images in '/mnt/d/DATA/Food_vision_10_percent/101_food_classes_10_percent/test/carrot_cake'.\n",
      "There are 0 directories and 250 images in '/mnt/d/DATA/Food_vision_10_percent/101_food_classes_10_percent/test/ceviche'.\n",
      "There are 0 directories and 250 images in '/mnt/d/DATA/Food_vision_10_percent/101_food_classes_10_percent/test/cheesecake'.\n",
      "There are 0 directories and 250 images in '/mnt/d/DATA/Food_vision_10_percent/101_food_classes_10_percent/test/cheese_plate'.\n",
      "There are 0 directories and 250 images in '/mnt/d/DATA/Food_vision_10_percent/101_food_classes_10_percent/test/chicken_curry'.\n",
      "There are 0 directories and 250 images in '/mnt/d/DATA/Food_vision_10_percent/101_food_classes_10_percent/test/chicken_quesadilla'.\n",
      "There are 0 directories and 250 images in '/mnt/d/DATA/Food_vision_10_percent/101_food_classes_10_percent/test/chicken_wings'.\n",
      "There are 0 directories and 250 images in '/mnt/d/DATA/Food_vision_10_percent/101_food_classes_10_percent/test/chocolate_cake'.\n",
      "There are 0 directories and 250 images in '/mnt/d/DATA/Food_vision_10_percent/101_food_classes_10_percent/test/chocolate_mousse'.\n",
      "There are 0 directories and 250 images in '/mnt/d/DATA/Food_vision_10_percent/101_food_classes_10_percent/test/churros'.\n",
      "There are 0 directories and 250 images in '/mnt/d/DATA/Food_vision_10_percent/101_food_classes_10_percent/test/clam_chowder'.\n",
      "There are 0 directories and 250 images in '/mnt/d/DATA/Food_vision_10_percent/101_food_classes_10_percent/test/club_sandwich'.\n",
      "There are 0 directories and 250 images in '/mnt/d/DATA/Food_vision_10_percent/101_food_classes_10_percent/test/crab_cakes'.\n",
      "There are 0 directories and 250 images in '/mnt/d/DATA/Food_vision_10_percent/101_food_classes_10_percent/test/creme_brulee'.\n",
      "There are 0 directories and 250 images in '/mnt/d/DATA/Food_vision_10_percent/101_food_classes_10_percent/test/croque_madame'.\n",
      "There are 0 directories and 250 images in '/mnt/d/DATA/Food_vision_10_percent/101_food_classes_10_percent/test/cup_cakes'.\n",
      "There are 0 directories and 250 images in '/mnt/d/DATA/Food_vision_10_percent/101_food_classes_10_percent/test/deviled_eggs'.\n",
      "There are 0 directories and 250 images in '/mnt/d/DATA/Food_vision_10_percent/101_food_classes_10_percent/test/donuts'.\n",
      "There are 0 directories and 250 images in '/mnt/d/DATA/Food_vision_10_percent/101_food_classes_10_percent/test/dumplings'.\n",
      "There are 0 directories and 250 images in '/mnt/d/DATA/Food_vision_10_percent/101_food_classes_10_percent/test/edamame'.\n",
      "There are 0 directories and 250 images in '/mnt/d/DATA/Food_vision_10_percent/101_food_classes_10_percent/test/eggs_benedict'.\n",
      "There are 0 directories and 250 images in '/mnt/d/DATA/Food_vision_10_percent/101_food_classes_10_percent/test/escargots'.\n",
      "There are 0 directories and 250 images in '/mnt/d/DATA/Food_vision_10_percent/101_food_classes_10_percent/test/falafel'.\n",
      "There are 0 directories and 250 images in '/mnt/d/DATA/Food_vision_10_percent/101_food_classes_10_percent/test/filet_mignon'.\n",
      "There are 0 directories and 250 images in '/mnt/d/DATA/Food_vision_10_percent/101_food_classes_10_percent/test/fish_and_chips'.\n",
      "There are 0 directories and 250 images in '/mnt/d/DATA/Food_vision_10_percent/101_food_classes_10_percent/test/foie_gras'.\n",
      "There are 0 directories and 250 images in '/mnt/d/DATA/Food_vision_10_percent/101_food_classes_10_percent/test/french_fries'.\n",
      "There are 0 directories and 250 images in '/mnt/d/DATA/Food_vision_10_percent/101_food_classes_10_percent/test/french_onion_soup'.\n",
      "There are 0 directories and 250 images in '/mnt/d/DATA/Food_vision_10_percent/101_food_classes_10_percent/test/french_toast'.\n",
      "There are 0 directories and 250 images in '/mnt/d/DATA/Food_vision_10_percent/101_food_classes_10_percent/test/fried_calamari'.\n",
      "There are 0 directories and 250 images in '/mnt/d/DATA/Food_vision_10_percent/101_food_classes_10_percent/test/fried_rice'.\n",
      "There are 0 directories and 250 images in '/mnt/d/DATA/Food_vision_10_percent/101_food_classes_10_percent/test/frozen_yogurt'.\n",
      "There are 0 directories and 250 images in '/mnt/d/DATA/Food_vision_10_percent/101_food_classes_10_percent/test/garlic_bread'.\n",
      "There are 0 directories and 250 images in '/mnt/d/DATA/Food_vision_10_percent/101_food_classes_10_percent/test/gnocchi'.\n",
      "There are 0 directories and 250 images in '/mnt/d/DATA/Food_vision_10_percent/101_food_classes_10_percent/test/greek_salad'.\n",
      "There are 0 directories and 250 images in '/mnt/d/DATA/Food_vision_10_percent/101_food_classes_10_percent/test/grilled_cheese_sandwich'.\n",
      "There are 0 directories and 250 images in '/mnt/d/DATA/Food_vision_10_percent/101_food_classes_10_percent/test/grilled_salmon'.\n",
      "There are 0 directories and 250 images in '/mnt/d/DATA/Food_vision_10_percent/101_food_classes_10_percent/test/guacamole'.\n",
      "There are 0 directories and 250 images in '/mnt/d/DATA/Food_vision_10_percent/101_food_classes_10_percent/test/gyoza'.\n",
      "There are 0 directories and 250 images in '/mnt/d/DATA/Food_vision_10_percent/101_food_classes_10_percent/test/hamburger'.\n",
      "There are 0 directories and 250 images in '/mnt/d/DATA/Food_vision_10_percent/101_food_classes_10_percent/test/hot_and_sour_soup'.\n",
      "There are 0 directories and 250 images in '/mnt/d/DATA/Food_vision_10_percent/101_food_classes_10_percent/test/hot_dog'.\n",
      "There are 0 directories and 250 images in '/mnt/d/DATA/Food_vision_10_percent/101_food_classes_10_percent/test/huevos_rancheros'.\n",
      "There are 0 directories and 250 images in '/mnt/d/DATA/Food_vision_10_percent/101_food_classes_10_percent/test/hummus'.\n",
      "There are 0 directories and 250 images in '/mnt/d/DATA/Food_vision_10_percent/101_food_classes_10_percent/test/ice_cream'.\n",
      "There are 0 directories and 250 images in '/mnt/d/DATA/Food_vision_10_percent/101_food_classes_10_percent/test/lasagna'.\n",
      "There are 0 directories and 250 images in '/mnt/d/DATA/Food_vision_10_percent/101_food_classes_10_percent/test/lobster_bisque'.\n",
      "There are 0 directories and 250 images in '/mnt/d/DATA/Food_vision_10_percent/101_food_classes_10_percent/test/lobster_roll_sandwich'.\n",
      "There are 0 directories and 250 images in '/mnt/d/DATA/Food_vision_10_percent/101_food_classes_10_percent/test/macaroni_and_cheese'.\n",
      "There are 0 directories and 250 images in '/mnt/d/DATA/Food_vision_10_percent/101_food_classes_10_percent/test/macarons'.\n",
      "There are 0 directories and 250 images in '/mnt/d/DATA/Food_vision_10_percent/101_food_classes_10_percent/test/miso_soup'.\n",
      "There are 0 directories and 250 images in '/mnt/d/DATA/Food_vision_10_percent/101_food_classes_10_percent/test/mussels'.\n",
      "There are 0 directories and 250 images in '/mnt/d/DATA/Food_vision_10_percent/101_food_classes_10_percent/test/nachos'.\n",
      "There are 0 directories and 250 images in '/mnt/d/DATA/Food_vision_10_percent/101_food_classes_10_percent/test/omelette'.\n",
      "There are 0 directories and 250 images in '/mnt/d/DATA/Food_vision_10_percent/101_food_classes_10_percent/test/onion_rings'.\n",
      "There are 0 directories and 250 images in '/mnt/d/DATA/Food_vision_10_percent/101_food_classes_10_percent/test/oysters'.\n",
      "There are 0 directories and 250 images in '/mnt/d/DATA/Food_vision_10_percent/101_food_classes_10_percent/test/pad_thai'.\n",
      "There are 0 directories and 250 images in '/mnt/d/DATA/Food_vision_10_percent/101_food_classes_10_percent/test/paella'.\n",
      "There are 0 directories and 250 images in '/mnt/d/DATA/Food_vision_10_percent/101_food_classes_10_percent/test/pancakes'.\n",
      "There are 0 directories and 250 images in '/mnt/d/DATA/Food_vision_10_percent/101_food_classes_10_percent/test/panna_cotta'.\n",
      "There are 0 directories and 250 images in '/mnt/d/DATA/Food_vision_10_percent/101_food_classes_10_percent/test/peking_duck'.\n",
      "There are 0 directories and 250 images in '/mnt/d/DATA/Food_vision_10_percent/101_food_classes_10_percent/test/pho'.\n",
      "There are 0 directories and 250 images in '/mnt/d/DATA/Food_vision_10_percent/101_food_classes_10_percent/test/pizza'.\n",
      "There are 0 directories and 250 images in '/mnt/d/DATA/Food_vision_10_percent/101_food_classes_10_percent/test/pork_chop'.\n",
      "There are 0 directories and 250 images in '/mnt/d/DATA/Food_vision_10_percent/101_food_classes_10_percent/test/poutine'.\n",
      "There are 0 directories and 250 images in '/mnt/d/DATA/Food_vision_10_percent/101_food_classes_10_percent/test/prime_rib'.\n",
      "There are 0 directories and 250 images in '/mnt/d/DATA/Food_vision_10_percent/101_food_classes_10_percent/test/pulled_pork_sandwich'.\n",
      "There are 0 directories and 250 images in '/mnt/d/DATA/Food_vision_10_percent/101_food_classes_10_percent/test/ramen'.\n",
      "There are 0 directories and 250 images in '/mnt/d/DATA/Food_vision_10_percent/101_food_classes_10_percent/test/ravioli'.\n",
      "There are 0 directories and 250 images in '/mnt/d/DATA/Food_vision_10_percent/101_food_classes_10_percent/test/red_velvet_cake'.\n",
      "There are 0 directories and 250 images in '/mnt/d/DATA/Food_vision_10_percent/101_food_classes_10_percent/test/risotto'.\n",
      "There are 0 directories and 250 images in '/mnt/d/DATA/Food_vision_10_percent/101_food_classes_10_percent/test/samosa'.\n",
      "There are 0 directories and 250 images in '/mnt/d/DATA/Food_vision_10_percent/101_food_classes_10_percent/test/sashimi'.\n",
      "There are 0 directories and 250 images in '/mnt/d/DATA/Food_vision_10_percent/101_food_classes_10_percent/test/scallops'.\n",
      "There are 0 directories and 250 images in '/mnt/d/DATA/Food_vision_10_percent/101_food_classes_10_percent/test/seaweed_salad'.\n",
      "There are 0 directories and 250 images in '/mnt/d/DATA/Food_vision_10_percent/101_food_classes_10_percent/test/shrimp_and_grits'.\n",
      "There are 0 directories and 250 images in '/mnt/d/DATA/Food_vision_10_percent/101_food_classes_10_percent/test/spaghetti_bolognese'.\n",
      "There are 0 directories and 250 images in '/mnt/d/DATA/Food_vision_10_percent/101_food_classes_10_percent/test/spaghetti_carbonara'.\n",
      "There are 0 directories and 250 images in '/mnt/d/DATA/Food_vision_10_percent/101_food_classes_10_percent/test/spring_rolls'.\n",
      "There are 0 directories and 250 images in '/mnt/d/DATA/Food_vision_10_percent/101_food_classes_10_percent/test/steak'.\n",
      "There are 0 directories and 250 images in '/mnt/d/DATA/Food_vision_10_percent/101_food_classes_10_percent/test/strawberry_shortcake'.\n",
      "There are 0 directories and 250 images in '/mnt/d/DATA/Food_vision_10_percent/101_food_classes_10_percent/test/sushi'.\n",
      "There are 0 directories and 250 images in '/mnt/d/DATA/Food_vision_10_percent/101_food_classes_10_percent/test/tacos'.\n",
      "There are 0 directories and 250 images in '/mnt/d/DATA/Food_vision_10_percent/101_food_classes_10_percent/test/takoyaki'.\n",
      "There are 0 directories and 250 images in '/mnt/d/DATA/Food_vision_10_percent/101_food_classes_10_percent/test/tiramisu'.\n",
      "There are 0 directories and 250 images in '/mnt/d/DATA/Food_vision_10_percent/101_food_classes_10_percent/test/tuna_tartare'.\n",
      "There are 0 directories and 250 images in '/mnt/d/DATA/Food_vision_10_percent/101_food_classes_10_percent/test/waffles'.\n",
      "There are 101 directories and 0 images in '/mnt/d/DATA/Food_vision_10_percent/101_food_classes_10_percent/train'.\n",
      "There are 0 directories and 75 images in '/mnt/d/DATA/Food_vision_10_percent/101_food_classes_10_percent/train/apple_pie'.\n",
      "There are 0 directories and 75 images in '/mnt/d/DATA/Food_vision_10_percent/101_food_classes_10_percent/train/baby_back_ribs'.\n",
      "There are 0 directories and 75 images in '/mnt/d/DATA/Food_vision_10_percent/101_food_classes_10_percent/train/baklava'.\n",
      "There are 0 directories and 75 images in '/mnt/d/DATA/Food_vision_10_percent/101_food_classes_10_percent/train/beef_carpaccio'.\n",
      "There are 0 directories and 75 images in '/mnt/d/DATA/Food_vision_10_percent/101_food_classes_10_percent/train/beef_tartare'.\n",
      "There are 0 directories and 75 images in '/mnt/d/DATA/Food_vision_10_percent/101_food_classes_10_percent/train/beet_salad'.\n",
      "There are 0 directories and 75 images in '/mnt/d/DATA/Food_vision_10_percent/101_food_classes_10_percent/train/beignets'.\n",
      "There are 0 directories and 75 images in '/mnt/d/DATA/Food_vision_10_percent/101_food_classes_10_percent/train/bibimbap'.\n",
      "There are 0 directories and 75 images in '/mnt/d/DATA/Food_vision_10_percent/101_food_classes_10_percent/train/bread_pudding'.\n",
      "There are 0 directories and 75 images in '/mnt/d/DATA/Food_vision_10_percent/101_food_classes_10_percent/train/breakfast_burrito'.\n",
      "There are 0 directories and 75 images in '/mnt/d/DATA/Food_vision_10_percent/101_food_classes_10_percent/train/bruschetta'.\n",
      "There are 0 directories and 75 images in '/mnt/d/DATA/Food_vision_10_percent/101_food_classes_10_percent/train/caesar_salad'.\n",
      "There are 0 directories and 75 images in '/mnt/d/DATA/Food_vision_10_percent/101_food_classes_10_percent/train/cannoli'.\n",
      "There are 0 directories and 75 images in '/mnt/d/DATA/Food_vision_10_percent/101_food_classes_10_percent/train/caprese_salad'.\n",
      "There are 0 directories and 75 images in '/mnt/d/DATA/Food_vision_10_percent/101_food_classes_10_percent/train/carrot_cake'.\n",
      "There are 0 directories and 75 images in '/mnt/d/DATA/Food_vision_10_percent/101_food_classes_10_percent/train/ceviche'.\n",
      "There are 0 directories and 75 images in '/mnt/d/DATA/Food_vision_10_percent/101_food_classes_10_percent/train/cheesecake'.\n",
      "There are 0 directories and 75 images in '/mnt/d/DATA/Food_vision_10_percent/101_food_classes_10_percent/train/cheese_plate'.\n",
      "There are 0 directories and 75 images in '/mnt/d/DATA/Food_vision_10_percent/101_food_classes_10_percent/train/chicken_curry'.\n",
      "There are 0 directories and 75 images in '/mnt/d/DATA/Food_vision_10_percent/101_food_classes_10_percent/train/chicken_quesadilla'.\n",
      "There are 0 directories and 75 images in '/mnt/d/DATA/Food_vision_10_percent/101_food_classes_10_percent/train/chicken_wings'.\n",
      "There are 0 directories and 75 images in '/mnt/d/DATA/Food_vision_10_percent/101_food_classes_10_percent/train/chocolate_cake'.\n",
      "There are 0 directories and 75 images in '/mnt/d/DATA/Food_vision_10_percent/101_food_classes_10_percent/train/chocolate_mousse'.\n",
      "There are 0 directories and 75 images in '/mnt/d/DATA/Food_vision_10_percent/101_food_classes_10_percent/train/churros'.\n",
      "There are 0 directories and 75 images in '/mnt/d/DATA/Food_vision_10_percent/101_food_classes_10_percent/train/clam_chowder'.\n",
      "There are 0 directories and 75 images in '/mnt/d/DATA/Food_vision_10_percent/101_food_classes_10_percent/train/club_sandwich'.\n",
      "There are 0 directories and 75 images in '/mnt/d/DATA/Food_vision_10_percent/101_food_classes_10_percent/train/crab_cakes'.\n",
      "There are 0 directories and 75 images in '/mnt/d/DATA/Food_vision_10_percent/101_food_classes_10_percent/train/creme_brulee'.\n",
      "There are 0 directories and 75 images in '/mnt/d/DATA/Food_vision_10_percent/101_food_classes_10_percent/train/croque_madame'.\n",
      "There are 0 directories and 75 images in '/mnt/d/DATA/Food_vision_10_percent/101_food_classes_10_percent/train/cup_cakes'.\n",
      "There are 0 directories and 75 images in '/mnt/d/DATA/Food_vision_10_percent/101_food_classes_10_percent/train/deviled_eggs'.\n",
      "There are 0 directories and 75 images in '/mnt/d/DATA/Food_vision_10_percent/101_food_classes_10_percent/train/donuts'.\n",
      "There are 0 directories and 75 images in '/mnt/d/DATA/Food_vision_10_percent/101_food_classes_10_percent/train/dumplings'.\n",
      "There are 0 directories and 75 images in '/mnt/d/DATA/Food_vision_10_percent/101_food_classes_10_percent/train/edamame'.\n",
      "There are 0 directories and 75 images in '/mnt/d/DATA/Food_vision_10_percent/101_food_classes_10_percent/train/eggs_benedict'.\n",
      "There are 0 directories and 75 images in '/mnt/d/DATA/Food_vision_10_percent/101_food_classes_10_percent/train/escargots'.\n",
      "There are 0 directories and 75 images in '/mnt/d/DATA/Food_vision_10_percent/101_food_classes_10_percent/train/falafel'.\n",
      "There are 0 directories and 75 images in '/mnt/d/DATA/Food_vision_10_percent/101_food_classes_10_percent/train/filet_mignon'.\n",
      "There are 0 directories and 75 images in '/mnt/d/DATA/Food_vision_10_percent/101_food_classes_10_percent/train/fish_and_chips'.\n",
      "There are 0 directories and 75 images in '/mnt/d/DATA/Food_vision_10_percent/101_food_classes_10_percent/train/foie_gras'.\n",
      "There are 0 directories and 75 images in '/mnt/d/DATA/Food_vision_10_percent/101_food_classes_10_percent/train/french_fries'.\n",
      "There are 0 directories and 75 images in '/mnt/d/DATA/Food_vision_10_percent/101_food_classes_10_percent/train/french_onion_soup'.\n",
      "There are 0 directories and 75 images in '/mnt/d/DATA/Food_vision_10_percent/101_food_classes_10_percent/train/french_toast'.\n",
      "There are 0 directories and 75 images in '/mnt/d/DATA/Food_vision_10_percent/101_food_classes_10_percent/train/fried_calamari'.\n",
      "There are 0 directories and 75 images in '/mnt/d/DATA/Food_vision_10_percent/101_food_classes_10_percent/train/fried_rice'.\n",
      "There are 0 directories and 75 images in '/mnt/d/DATA/Food_vision_10_percent/101_food_classes_10_percent/train/frozen_yogurt'.\n",
      "There are 0 directories and 75 images in '/mnt/d/DATA/Food_vision_10_percent/101_food_classes_10_percent/train/garlic_bread'.\n",
      "There are 0 directories and 75 images in '/mnt/d/DATA/Food_vision_10_percent/101_food_classes_10_percent/train/gnocchi'.\n",
      "There are 0 directories and 75 images in '/mnt/d/DATA/Food_vision_10_percent/101_food_classes_10_percent/train/greek_salad'.\n",
      "There are 0 directories and 75 images in '/mnt/d/DATA/Food_vision_10_percent/101_food_classes_10_percent/train/grilled_cheese_sandwich'.\n",
      "There are 0 directories and 75 images in '/mnt/d/DATA/Food_vision_10_percent/101_food_classes_10_percent/train/grilled_salmon'.\n",
      "There are 0 directories and 75 images in '/mnt/d/DATA/Food_vision_10_percent/101_food_classes_10_percent/train/guacamole'.\n",
      "There are 0 directories and 75 images in '/mnt/d/DATA/Food_vision_10_percent/101_food_classes_10_percent/train/gyoza'.\n",
      "There are 0 directories and 75 images in '/mnt/d/DATA/Food_vision_10_percent/101_food_classes_10_percent/train/hamburger'.\n",
      "There are 0 directories and 75 images in '/mnt/d/DATA/Food_vision_10_percent/101_food_classes_10_percent/train/hot_and_sour_soup'.\n",
      "There are 0 directories and 75 images in '/mnt/d/DATA/Food_vision_10_percent/101_food_classes_10_percent/train/hot_dog'.\n",
      "There are 0 directories and 75 images in '/mnt/d/DATA/Food_vision_10_percent/101_food_classes_10_percent/train/huevos_rancheros'.\n",
      "There are 0 directories and 75 images in '/mnt/d/DATA/Food_vision_10_percent/101_food_classes_10_percent/train/hummus'.\n",
      "There are 0 directories and 75 images in '/mnt/d/DATA/Food_vision_10_percent/101_food_classes_10_percent/train/ice_cream'.\n",
      "There are 0 directories and 75 images in '/mnt/d/DATA/Food_vision_10_percent/101_food_classes_10_percent/train/lasagna'.\n",
      "There are 0 directories and 75 images in '/mnt/d/DATA/Food_vision_10_percent/101_food_classes_10_percent/train/lobster_bisque'.\n",
      "There are 0 directories and 75 images in '/mnt/d/DATA/Food_vision_10_percent/101_food_classes_10_percent/train/lobster_roll_sandwich'.\n",
      "There are 0 directories and 75 images in '/mnt/d/DATA/Food_vision_10_percent/101_food_classes_10_percent/train/macaroni_and_cheese'.\n",
      "There are 0 directories and 75 images in '/mnt/d/DATA/Food_vision_10_percent/101_food_classes_10_percent/train/macarons'.\n",
      "There are 0 directories and 75 images in '/mnt/d/DATA/Food_vision_10_percent/101_food_classes_10_percent/train/miso_soup'.\n",
      "There are 0 directories and 75 images in '/mnt/d/DATA/Food_vision_10_percent/101_food_classes_10_percent/train/mussels'.\n",
      "There are 0 directories and 75 images in '/mnt/d/DATA/Food_vision_10_percent/101_food_classes_10_percent/train/nachos'.\n",
      "There are 0 directories and 75 images in '/mnt/d/DATA/Food_vision_10_percent/101_food_classes_10_percent/train/omelette'.\n",
      "There are 0 directories and 75 images in '/mnt/d/DATA/Food_vision_10_percent/101_food_classes_10_percent/train/onion_rings'.\n",
      "There are 0 directories and 75 images in '/mnt/d/DATA/Food_vision_10_percent/101_food_classes_10_percent/train/oysters'.\n",
      "There are 0 directories and 75 images in '/mnt/d/DATA/Food_vision_10_percent/101_food_classes_10_percent/train/pad_thai'.\n",
      "There are 0 directories and 75 images in '/mnt/d/DATA/Food_vision_10_percent/101_food_classes_10_percent/train/paella'.\n",
      "There are 0 directories and 75 images in '/mnt/d/DATA/Food_vision_10_percent/101_food_classes_10_percent/train/pancakes'.\n",
      "There are 0 directories and 75 images in '/mnt/d/DATA/Food_vision_10_percent/101_food_classes_10_percent/train/panna_cotta'.\n",
      "There are 0 directories and 75 images in '/mnt/d/DATA/Food_vision_10_percent/101_food_classes_10_percent/train/peking_duck'.\n",
      "There are 0 directories and 75 images in '/mnt/d/DATA/Food_vision_10_percent/101_food_classes_10_percent/train/pho'.\n",
      "There are 0 directories and 75 images in '/mnt/d/DATA/Food_vision_10_percent/101_food_classes_10_percent/train/pizza'.\n",
      "There are 0 directories and 75 images in '/mnt/d/DATA/Food_vision_10_percent/101_food_classes_10_percent/train/pork_chop'.\n",
      "There are 0 directories and 75 images in '/mnt/d/DATA/Food_vision_10_percent/101_food_classes_10_percent/train/poutine'.\n",
      "There are 0 directories and 75 images in '/mnt/d/DATA/Food_vision_10_percent/101_food_classes_10_percent/train/prime_rib'.\n",
      "There are 0 directories and 75 images in '/mnt/d/DATA/Food_vision_10_percent/101_food_classes_10_percent/train/pulled_pork_sandwich'.\n",
      "There are 0 directories and 75 images in '/mnt/d/DATA/Food_vision_10_percent/101_food_classes_10_percent/train/ramen'.\n",
      "There are 0 directories and 75 images in '/mnt/d/DATA/Food_vision_10_percent/101_food_classes_10_percent/train/ravioli'.\n",
      "There are 0 directories and 75 images in '/mnt/d/DATA/Food_vision_10_percent/101_food_classes_10_percent/train/red_velvet_cake'.\n",
      "There are 0 directories and 75 images in '/mnt/d/DATA/Food_vision_10_percent/101_food_classes_10_percent/train/risotto'.\n",
      "There are 0 directories and 75 images in '/mnt/d/DATA/Food_vision_10_percent/101_food_classes_10_percent/train/samosa'.\n",
      "There are 0 directories and 75 images in '/mnt/d/DATA/Food_vision_10_percent/101_food_classes_10_percent/train/sashimi'.\n",
      "There are 0 directories and 75 images in '/mnt/d/DATA/Food_vision_10_percent/101_food_classes_10_percent/train/scallops'.\n",
      "There are 0 directories and 75 images in '/mnt/d/DATA/Food_vision_10_percent/101_food_classes_10_percent/train/seaweed_salad'.\n",
      "There are 0 directories and 75 images in '/mnt/d/DATA/Food_vision_10_percent/101_food_classes_10_percent/train/shrimp_and_grits'.\n",
      "There are 0 directories and 75 images in '/mnt/d/DATA/Food_vision_10_percent/101_food_classes_10_percent/train/spaghetti_bolognese'.\n",
      "There are 0 directories and 75 images in '/mnt/d/DATA/Food_vision_10_percent/101_food_classes_10_percent/train/spaghetti_carbonara'.\n",
      "There are 0 directories and 75 images in '/mnt/d/DATA/Food_vision_10_percent/101_food_classes_10_percent/train/spring_rolls'.\n",
      "There are 0 directories and 75 images in '/mnt/d/DATA/Food_vision_10_percent/101_food_classes_10_percent/train/steak'.\n",
      "There are 0 directories and 75 images in '/mnt/d/DATA/Food_vision_10_percent/101_food_classes_10_percent/train/strawberry_shortcake'.\n",
      "There are 0 directories and 75 images in '/mnt/d/DATA/Food_vision_10_percent/101_food_classes_10_percent/train/sushi'.\n",
      "There are 0 directories and 75 images in '/mnt/d/DATA/Food_vision_10_percent/101_food_classes_10_percent/train/tacos'.\n",
      "There are 0 directories and 75 images in '/mnt/d/DATA/Food_vision_10_percent/101_food_classes_10_percent/train/takoyaki'.\n",
      "There are 0 directories and 75 images in '/mnt/d/DATA/Food_vision_10_percent/101_food_classes_10_percent/train/tiramisu'.\n",
      "There are 0 directories and 75 images in '/mnt/d/DATA/Food_vision_10_percent/101_food_classes_10_percent/train/tuna_tartare'.\n",
      "There are 0 directories and 75 images in '/mnt/d/DATA/Food_vision_10_percent/101_food_classes_10_percent/train/waffles'.\n"
     ]
    }
   ],
   "source": [
    "# How many images/classes are there?\n",
    "walk_through_dir(\"../data/Food_vision_10_percent/101_food_classes_10_percent\")"
   ]
  },
  {
   "cell_type": "code",
   "execution_count": 8,
   "metadata": {},
   "outputs": [
    {
     "name": "stdout",
     "output_type": "stream",
     "text": [
      "train_dir='/mnt/d/DATA/Food_vision_10_percent/101_food_classes_10_percent/train/'\n",
      "test_dir='/mnt/d/DATA/Food_vision_10_percent/101_food_classes_10_percent/test/'\n"
     ]
    }
   ],
   "source": [
    "print(f\"{train_dir=}\")\n",
    "print(f\"{test_dir=}\")"
   ]
  },
  {
   "cell_type": "code",
   "execution_count": 9,
   "metadata": {},
   "outputs": [
    {
     "name": "stdout",
     "output_type": "stream",
     "text": [
      "Found 7575 files belonging to 101 classes.\n",
      "Found 25250 files belonging to 101 classes.\n"
     ]
    }
   ],
   "source": [
    "data_dir = \"../data/Food_vision_10_percent/\"\n",
    "train_dir = data_dir + \"101_food_classes_10_percent/train/\"\n",
    "test_dir = data_dir + \"101_food_classes_10_percent/test/\"\n",
    "\n",
    "# Setup data inputs\n",
    "import tensorflow as tf\n",
    "IMG_SIZE = (224, 224)\n",
    "train_data_all_10_percent = tf.keras.preprocessing.image_dataset_from_directory(train_dir,\n",
    "                                                                                label_mode=\"categorical\",\n",
    "                                                                                image_size=IMG_SIZE)\n",
    "                                                                                \n",
    "test_data = tf.keras.preprocessing.image_dataset_from_directory(test_dir,\n",
    "                                                                label_mode=\"categorical\",\n",
    "                                                                image_size=IMG_SIZE,\n",
    "                                                                shuffle=False) # don't shuffle test data for prediction "
   ]
  },
  {
   "cell_type": "markdown",
   "metadata": {},
   "source": [
    "## Callbacks"
   ]
  },
  {
   "cell_type": "code",
   "execution_count": 10,
   "metadata": {},
   "outputs": [],
   "source": [
    "# Create ModelCheckpoint callback to save model's progress\n",
    "checkpoint_path = \"101_classes_10_percent_data_model_checkpoint/cp.ckpt\" # saving weights requires \".ckpt\" extension\n",
    "model_checkpoint = tf.keras.callbacks.ModelCheckpoint(checkpoint_path,\n",
    "                                                      monitor=\"val_accuracy\", # save the model weights with best validation accuracy\n",
    "                                                      save_best_only=True, # only save the best weights\n",
    "                                                      save_weights_only=True, # only save model weights (not whole model)\n",
    "                                                      verbose=1) # don't print out whether or not model is being saved\n",
    "\n",
    "early_stopping_callback = tf.keras.callbacks.EarlyStopping(monitor='val_loss', patience=3)"
   ]
  },
  {
   "cell_type": "code",
   "execution_count": 11,
   "metadata": {},
   "outputs": [
    {
     "name": "stdout",
     "output_type": "stream",
     "text": [
      "INFO:tensorflow:Mixed precision compatibility check (mixed_float16): OK\n",
      "Your GPU will likely run quickly with dtype policy mixed_float16 as it has compute capability of at least 7.0. Your GPU: NVIDIA GeForce RTX 3070, compute capability 8.6\n"
     ]
    },
    {
     "data": {
      "text/plain": [
       "<Policy \"mixed_float16\">"
      ]
     },
     "execution_count": 11,
     "metadata": {},
     "output_type": "execute_result"
    }
   ],
   "source": [
    "tf.keras.mixed_precision.set_global_policy(policy=\"mixed_float16\")\n",
    "tf.keras.mixed_precision.global_policy()"
   ]
  },
  {
   "cell_type": "markdown",
   "metadata": {},
   "source": [
    "## data augmentation"
   ]
  },
  {
   "cell_type": "code",
   "execution_count": 12,
   "metadata": {},
   "outputs": [],
   "source": [
    "data_augmentation = tf.keras.Sequential([\n",
    "  tf.keras.layers.RandomFlip(\"horizontal\"),\n",
    "  tf.keras.layers.RandomRotation(0.2),\n",
    "  tf.keras.layers.RandomZoom(0.2),\n",
    "  tf.keras.layers.RandomHeight(0.2),\n",
    "  tf.keras.layers.RandomWidth(0.2),\n",
    "  # preprocessing.Rescaling(1./255) # keep for ResNet50V2, remove for EfficientNetB0\n",
    "], name =\"data_augmentation\")"
   ]
  },
  {
   "cell_type": "markdown",
   "metadata": {},
   "source": [
    "# Model 1"
   ]
  },
  {
   "cell_type": "code",
   "execution_count": 13,
   "metadata": {},
   "outputs": [],
   "source": [
    "# Create base model\n",
    "INPUT_SHAPE = (224, 224, 3)\n",
    "\n",
    "\n",
    "# Setup base model and freeze its layers (this will extract features)\n",
    "base_model = tf.keras.applications.efficientnet.EfficientNetB0(include_top=False)\n",
    "base_model.trainable = False\n",
    "\n",
    "# Setup model architecture with trainable top layers\n",
    "inputs = tf.keras.layers.Input(shape=INPUT_SHAPE, name=\"input_layer\") # shape of input image\n",
    "x = data_augmentation(inputs) # augment images (only happens during training)\n",
    "x = base_model(x, training=False) # put the base model in inference mode so we can use it to extract features without updating the weights\n",
    "x = tf.keras.layers.GlobalAveragePooling2D(name=\"global_average_pooling\")(x) # pool the outputs of the base model\n",
    "#x = tf.keras.layers.Dense(128, activation=\"relu\")(x)\n",
    "#x = tf.keras.layers.Dropout(0.2)(x)\n",
    "x = tf.keras.layers.Dense(len(train_data_all_10_percent.class_names))(x)\n",
    "outputs = tf.keras.layers.Activation(\"softmax\", dtype=tf.float32, name=\"softmax_float32\")(x)\n",
    "\n",
    "model = tf.keras.Model(inputs, outputs)"
   ]
  },
  {
   "cell_type": "code",
   "execution_count": 14,
   "metadata": {},
   "outputs": [
    {
     "name": "stdout",
     "output_type": "stream",
     "text": [
      "Model: \"model\"\n",
      "_________________________________________________________________\n",
      " Layer (type)                Output Shape              Param #   \n",
      "=================================================================\n",
      " input_layer (InputLayer)    [(None, 224, 224, 3)]     0         \n",
      "                                                                 \n",
      " data_augmentation (Sequent  (None, None, None, 3)     0         \n",
      " ial)                                                            \n",
      "                                                                 \n",
      " efficientnetb0 (Functional  (None, None, None, 1280   4049571   \n",
      " )                           )                                   \n",
      "                                                                 \n",
      " global_average_pooling (Gl  (None, 1280)              0         \n",
      " obalAveragePooling2D)                                           \n",
      "                                                                 \n",
      " dense (Dense)               (None, 128)               163968    \n",
      "                                                                 \n",
      " dropout (Dropout)           (None, 128)               0         \n",
      "                                                                 \n",
      " dense_1 (Dense)             (None, 101)               13029     \n",
      "                                                                 \n",
      " softmax_float32 (Activatio  (None, 101)               0         \n",
      " n)                                                              \n",
      "                                                                 \n",
      "=================================================================\n",
      "Total params: 4226568 (16.12 MB)\n",
      "Trainable params: 176997 (691.39 KB)\n",
      "Non-trainable params: 4049571 (15.45 MB)\n",
      "_________________________________________________________________\n"
     ]
    }
   ],
   "source": [
    "# Get a summary of our model\n",
    "model.summary()"
   ]
  },
  {
   "cell_type": "code",
   "execution_count": 15,
   "metadata": {},
   "outputs": [],
   "source": [
    "# Compile\n",
    "model.compile(loss=\"categorical_crossentropy\",\n",
    "              optimizer=tf.keras.optimizers.legacy.Adam(),\n",
    "              metrics=[\"accuracy\"])"
   ]
  },
  {
   "cell_type": "code",
   "execution_count": 16,
   "metadata": {},
   "outputs": [
    {
     "name": "stdout",
     "output_type": "stream",
     "text": [
      "Epoch 1/20\n",
      "237/237 [==============================] - ETA: 0s - loss: 3.6447 - accuracy: 0.1846\n",
      "Epoch 1: val_accuracy improved from -inf to 0.36392, saving model to 101_classes_10_percent_data_model_checkpoint/cp.ckpt\n",
      "237/237 [==============================] - 107s 384ms/step - loss: 3.6447 - accuracy: 0.1846 - val_loss: 2.5794 - val_accuracy: 0.3639\n",
      "Epoch 2/20\n",
      "237/237 [==============================] - ETA: 0s - loss: 2.4908 - accuracy: 0.3819\n",
      "Epoch 2: val_accuracy improved from 0.36392 to 0.46084, saving model to 101_classes_10_percent_data_model_checkpoint/cp.ckpt\n",
      "237/237 [==============================] - 74s 308ms/step - loss: 2.4908 - accuracy: 0.3819 - val_loss: 2.1107 - val_accuracy: 0.4608\n",
      "Epoch 3/20\n",
      "237/237 [==============================] - ETA: 0s - loss: 2.1063 - accuracy: 0.4519\n",
      "Epoch 3: val_accuracy improved from 0.46084 to 0.50857, saving model to 101_classes_10_percent_data_model_checkpoint/cp.ckpt\n",
      "237/237 [==============================] - 67s 279ms/step - loss: 2.1063 - accuracy: 0.4519 - val_loss: 1.8983 - val_accuracy: 0.5086\n",
      "Epoch 4/20\n",
      "237/237 [==============================] - ETA: 0s - loss: 1.9030 - accuracy: 0.5068\n",
      "Epoch 4: val_accuracy improved from 0.50857 to 0.51569, saving model to 101_classes_10_percent_data_model_checkpoint/cp.ckpt\n",
      "237/237 [==============================] - 73s 306ms/step - loss: 1.9030 - accuracy: 0.5068 - val_loss: 1.8454 - val_accuracy: 0.5157\n",
      "Epoch 5/20\n",
      "237/237 [==============================] - ETA: 0s - loss: 1.7442 - accuracy: 0.5383\n",
      "Epoch 5: val_accuracy improved from 0.51569 to 0.52453, saving model to 101_classes_10_percent_data_model_checkpoint/cp.ckpt\n",
      "237/237 [==============================] - 59s 246ms/step - loss: 1.7442 - accuracy: 0.5383 - val_loss: 1.8224 - val_accuracy: 0.5245\n",
      "Epoch 6/20\n",
      "237/237 [==============================] - ETA: 0s - loss: 1.6233 - accuracy: 0.5653\n",
      "Epoch 6: val_accuracy improved from 0.52453 to 0.53455, saving model to 101_classes_10_percent_data_model_checkpoint/cp.ckpt\n",
      "237/237 [==============================] - 59s 246ms/step - loss: 1.6233 - accuracy: 0.5653 - val_loss: 1.7633 - val_accuracy: 0.5345\n",
      "Epoch 7/20\n",
      "237/237 [==============================] - ETA: 0s - loss: 1.5030 - accuracy: 0.5962\n",
      "Epoch 7: val_accuracy did not improve from 0.53455\n",
      "237/237 [==============================] - 56s 233ms/step - loss: 1.5030 - accuracy: 0.5962 - val_loss: 1.7578 - val_accuracy: 0.5280\n",
      "Epoch 8/20\n",
      "237/237 [==============================] - ETA: 0s - loss: 1.4191 - accuracy: 0.6137\n",
      "Epoch 8: val_accuracy improved from 0.53455 to 0.53903, saving model to 101_classes_10_percent_data_model_checkpoint/cp.ckpt\n",
      "237/237 [==============================] - 53s 223ms/step - loss: 1.4191 - accuracy: 0.6137 - val_loss: 1.7243 - val_accuracy: 0.5390\n",
      "Epoch 9/20\n",
      "237/237 [==============================] - ETA: 0s - loss: 1.3483 - accuracy: 0.6347\n",
      "Epoch 9: val_accuracy improved from 0.53903 to 0.54351, saving model to 101_classes_10_percent_data_model_checkpoint/cp.ckpt\n",
      "237/237 [==============================] - 50s 210ms/step - loss: 1.3483 - accuracy: 0.6347 - val_loss: 1.7017 - val_accuracy: 0.5435\n",
      "Epoch 10/20\n",
      "237/237 [==============================] - ETA: 0s - loss: 1.2696 - accuracy: 0.6483\n",
      "Epoch 10: val_accuracy did not improve from 0.54351\n",
      "237/237 [==============================] - 57s 241ms/step - loss: 1.2696 - accuracy: 0.6483 - val_loss: 1.7225 - val_accuracy: 0.5430\n",
      "Epoch 11/20\n",
      "237/237 [==============================] - ETA: 0s - loss: 1.1989 - accuracy: 0.6693\n",
      "Epoch 11: val_accuracy did not improve from 0.54351\n",
      "237/237 [==============================] - 49s 202ms/step - loss: 1.1989 - accuracy: 0.6693 - val_loss: 1.7390 - val_accuracy: 0.5390\n",
      "Epoch 12/20\n",
      "237/237 [==============================] - ETA: 0s - loss: 1.1794 - accuracy: 0.6747\n",
      "Epoch 12: val_accuracy improved from 0.54351 to 0.54378, saving model to 101_classes_10_percent_data_model_checkpoint/cp.ckpt\n",
      "237/237 [==============================] - 47s 196ms/step - loss: 1.1794 - accuracy: 0.6747 - val_loss: 1.7394 - val_accuracy: 0.5438\n"
     ]
    }
   ],
   "source": [
    "\n",
    "# Fit\n",
    "history_all_classes_10_percent = model.fit(train_data_all_10_percent,\n",
    "                                           epochs=20, # fit for 5 epochs to keep experiments quick\n",
    "                                           validation_data=test_data,\n",
    "                                           validation_steps=int(0.3 * len(test_data)), # evaluate on smaller portion of test data\n",
    "                                           callbacks=[model_checkpoint, early_stopping_callback]) # save best model weights to file"
   ]
  },
  {
   "cell_type": "markdown",
   "metadata": {},
   "source": [
    "## Model 1 Evaluation"
   ]
  },
  {
   "cell_type": "code",
   "execution_count": 17,
   "metadata": {},
   "outputs": [
    {
     "name": "stdout",
     "output_type": "stream",
     "text": [
      "790/790 [==============================] - 54s 68ms/step - loss: 1.6093 - accuracy: 0.5683\n"
     ]
    },
    {
     "data": {
      "text/plain": [
       "[1.6092721223831177, 0.5683168172836304]"
      ]
     },
     "execution_count": 17,
     "metadata": {},
     "output_type": "execute_result"
    }
   ],
   "source": [
    "# Evaluate model \n",
    "results_feature_extraction_model = model.evaluate(test_data)\n",
    "results_feature_extraction_model"
   ]
  },
  {
   "cell_type": "code",
   "execution_count": 17,
   "metadata": {},
   "outputs": [
    {
     "data": {
      "image/png": "[encoded data removed]",
      "text/plain": [
       "<Figure size 640x480 with 1 Axes>"
      ]
     },
     "metadata": {},
     "output_type": "display_data"
    },
    {
     "data": {
      "image/png": "[encoded data removed]",
      "text/plain": [
       "<Figure size 640x480 with 1 Axes>"
      ]
     },
     "metadata": {},
     "output_type": "display_data"
    }
   ],
   "source": [
    "plot_loss_curves(history_all_classes_10_percent)"
   ]
  },
  {
   "cell_type": "markdown",
   "metadata": {},
   "source": [
    "# Model 2\n",
    "change the base model to efficientnet_V2"
   ]
  },
  {
   "cell_type": "code",
   "execution_count": 24,
   "metadata": {},
   "outputs": [],
   "source": [
    "# Create ModelCheckpoint callback to save model's progress\n",
    "checkpoint_path = \"101_classes_10_percent_data_model_2_checkpoint/cp.ckpt\" # saving weights requires \".ckpt\" extension\n",
    "model_checkpoint = tf.keras.callbacks.ModelCheckpoint(checkpoint_path,\n",
    "                                                      monitor=\"val_accuracy\", # save the model weights with best validation accuracy\n",
    "                                                      save_best_only=True, # only save the best weights\n",
    "                                                      save_weights_only=True, # only save model weights (not whole model)\n",
    "                                                      verbose=1) # don't print out whether or not model is being saved\n",
    "\n",
    "early_stopping_callback = tf.keras.callbacks.EarlyStopping(monitor='val_loss', patience=3)"
   ]
  },
  {
   "cell_type": "code",
   "execution_count": 27,
   "metadata": {},
   "outputs": [],
   "source": [
    "# Setup base model and freeze its layers (this will extract features)\n",
    "base_model = tf.keras.applications.efficientnet_v2.EfficientNetV2B3(include_top=False)\n",
    "base_model.trainable = False\n",
    "\n",
    "# Setup model architecture with trainable top layers\n",
    "inputs = tf.keras.layers.Input(shape=INPUT_SHAPE, name=\"input_layer\") # shape of input image\n",
    "x = data_augmentation(inputs) # augment images (only happens during training)\n",
    "x = base_model(x, training=False) # put the base model in inference mode so we can use it to extract features without updating the weights\n",
    "x = tf.keras.layers.GlobalAveragePooling2D(name=\"global_average_pooling\")(x) # pool the outputs of the base model\n",
    "x = tf.keras.layers.Dense(len(train_data_all_10_percent.class_names))(x)\n",
    "outputs = tf.keras.layers.Activation(\"softmax\", dtype=tf.float32, name=\"softmax_float32\")(x)\n",
    "\n",
    "model_2 = tf.keras.Model(inputs, outputs)"
   ]
  },
  {
   "cell_type": "code",
   "execution_count": 28,
   "metadata": {},
   "outputs": [
    {
     "name": "stdout",
     "output_type": "stream",
     "text": [
      "Model: \"model_3\"\n",
      "_________________________________________________________________\n",
      " Layer (type)                Output Shape              Param #   \n",
      "=================================================================\n",
      " input_layer (InputLayer)    [(None, 224, 224, 3)]     0         \n",
      "                                                                 \n",
      " data_augmentation (Sequent  (None, None, None, 3)     0         \n",
      " ial)                                                            \n",
      "                                                                 \n",
      " efficientnetv2-b3 (Functio  (None, None, None, 1536   12930622  \n",
      " nal)                        )                                   \n",
      "                                                                 \n",
      " global_average_pooling (Gl  (None, 1536)              0         \n",
      " obalAveragePooling2D)                                           \n",
      "                                                                 \n",
      " dense_3 (Dense)             (None, 101)               155237    \n",
      "                                                                 \n",
      " softmax_float32 (Activatio  (None, 101)               0         \n",
      " n)                                                              \n",
      "                                                                 \n",
      "=================================================================\n",
      "Total params: 13085859 (49.92 MB)\n",
      "Trainable params: 155237 (606.39 KB)\n",
      "Non-trainable params: 12930622 (49.33 MB)\n",
      "_________________________________________________________________\n"
     ]
    }
   ],
   "source": [
    "model_2.summary()"
   ]
  },
  {
   "cell_type": "code",
   "execution_count": 29,
   "metadata": {},
   "outputs": [
    {
     "name": "stdout",
     "output_type": "stream",
     "text": [
      "Epoch 1/20\n"
     ]
    },
    {
     "name": "stdout",
     "output_type": "stream",
     "text": [
      "237/237 [==============================] - ETA: 0s - loss: 3.3897 - accuracy: 0.2646\n",
      "Epoch 1: val_accuracy improved from -inf to 0.41324, saving model to 101_classes_10_percent_data_model_2_checkpoint/cp.ckpt\n",
      "237/237 [==============================] - 116s 425ms/step - loss: 3.3897 - accuracy: 0.2646 - val_loss: 2.4252 - val_accuracy: 0.4132\n",
      "Epoch 2/20\n",
      "237/237 [==============================] - ETA: 0s - loss: 2.3107 - accuracy: 0.4632\n",
      "Epoch 2: val_accuracy improved from 0.41324 to 0.47073, saving model to 101_classes_10_percent_data_model_2_checkpoint/cp.ckpt\n",
      "237/237 [==============================] - 88s 370ms/step - loss: 2.3107 - accuracy: 0.4632 - val_loss: 2.0496 - val_accuracy: 0.4707\n",
      "Epoch 3/20\n",
      "237/237 [==============================] - ETA: 0s - loss: 1.9530 - accuracy: 0.5232\n",
      "Epoch 3: val_accuracy improved from 0.47073 to 0.50804, saving model to 101_classes_10_percent_data_model_2_checkpoint/cp.ckpt\n",
      "237/237 [==============================] - 83s 346ms/step - loss: 1.9530 - accuracy: 0.5232 - val_loss: 1.8839 - val_accuracy: 0.5080\n",
      "Epoch 4/20\n",
      "237/237 [==============================] - ETA: 0s - loss: 1.7630 - accuracy: 0.5628\n",
      "Epoch 4: val_accuracy improved from 0.50804 to 0.51833, saving model to 101_classes_10_percent_data_model_2_checkpoint/cp.ckpt\n",
      "237/237 [==============================] - 79s 331ms/step - loss: 1.7630 - accuracy: 0.5628 - val_loss: 1.7948 - val_accuracy: 0.5183\n",
      "Epoch 5/20\n",
      "237/237 [==============================] - ETA: 0s - loss: 1.6177 - accuracy: 0.5988\n",
      "Epoch 5: val_accuracy improved from 0.51833 to 0.53481, saving model to 101_classes_10_percent_data_model_2_checkpoint/cp.ckpt\n",
      "237/237 [==============================] - 77s 324ms/step - loss: 1.6177 - accuracy: 0.5988 - val_loss: 1.7230 - val_accuracy: 0.5348\n",
      "Epoch 6/20\n",
      "237/237 [==============================] - ETA: 0s - loss: 1.5071 - accuracy: 0.6211\n",
      "Epoch 6: val_accuracy improved from 0.53481 to 0.53929, saving model to 101_classes_10_percent_data_model_2_checkpoint/cp.ckpt\n",
      "237/237 [==============================] - 72s 304ms/step - loss: 1.5071 - accuracy: 0.6211 - val_loss: 1.7123 - val_accuracy: 0.5393\n",
      "Epoch 7/20\n",
      "237/237 [==============================] - ETA: 0s - loss: 1.4065 - accuracy: 0.6495\n",
      "Epoch 7: val_accuracy improved from 0.53929 to 0.54008, saving model to 101_classes_10_percent_data_model_2_checkpoint/cp.ckpt\n",
      "237/237 [==============================] - 69s 291ms/step - loss: 1.4065 - accuracy: 0.6495 - val_loss: 1.7045 - val_accuracy: 0.5401\n",
      "Epoch 8/20\n",
      "237/237 [==============================] - ETA: 0s - loss: 1.3289 - accuracy: 0.6590\n",
      "Epoch 8: val_accuracy improved from 0.54008 to 0.54602, saving model to 101_classes_10_percent_data_model_2_checkpoint/cp.ckpt\n",
      "237/237 [==============================] - 65s 273ms/step - loss: 1.3289 - accuracy: 0.6590 - val_loss: 1.6822 - val_accuracy: 0.5460\n",
      "Epoch 9/20\n",
      "237/237 [==============================] - ETA: 0s - loss: 1.2534 - accuracy: 0.6824\n",
      "Epoch 9: val_accuracy did not improve from 0.54602\n",
      "237/237 [==============================] - 60s 250ms/step - loss: 1.2534 - accuracy: 0.6824 - val_loss: 1.6846 - val_accuracy: 0.5443\n",
      "Epoch 10/20\n",
      "237/237 [==============================] - ETA: 0s - loss: 1.1950 - accuracy: 0.6936\n",
      "Epoch 10: val_accuracy improved from 0.54602 to 0.55538, saving model to 101_classes_10_percent_data_model_2_checkpoint/cp.ckpt\n",
      "237/237 [==============================] - 63s 263ms/step - loss: 1.1950 - accuracy: 0.6936 - val_loss: 1.6533 - val_accuracy: 0.5554\n",
      "Epoch 11/20\n",
      "237/237 [==============================] - ETA: 0s - loss: 1.1366 - accuracy: 0.7131\n",
      "Epoch 11: val_accuracy did not improve from 0.55538\n",
      "237/237 [==============================] - 57s 239ms/step - loss: 1.1366 - accuracy: 0.7131 - val_loss: 1.6566 - val_accuracy: 0.5542\n",
      "Epoch 12/20\n",
      "237/237 [==============================] - ETA: 0s - loss: 1.0856 - accuracy: 0.7267\n",
      "Epoch 12: val_accuracy did not improve from 0.55538\n",
      "237/237 [==============================] - 56s 235ms/step - loss: 1.0856 - accuracy: 0.7267 - val_loss: 1.6904 - val_accuracy: 0.5438\n",
      "Epoch 13/20\n",
      "237/237 [==============================] - ETA: 0s - loss: 1.0408 - accuracy: 0.7361\n",
      "Epoch 13: val_accuracy did not improve from 0.55538\n",
      "237/237 [==============================] - 56s 236ms/step - loss: 1.0408 - accuracy: 0.7361 - val_loss: 1.6659 - val_accuracy: 0.5533\n"
     ]
    }
   ],
   "source": [
    "# Compile\n",
    "model_2.compile(loss=\"categorical_crossentropy\",\n",
    "              optimizer=tf.keras.optimizers.legacy.Adam(),\n",
    "              metrics=[\"accuracy\"])\n",
    "\n",
    "# Fit\n",
    "history_all_classes_10_percent_model_2 = model_2.fit(train_data_all_10_percent,\n",
    "                                                     epochs=20, # fit for 5 epochs to keep experiments quick\n",
    "                                                     validation_data=test_data,\n",
    "                                                     validation_steps=int(0.3 * len(test_data)), # evaluate on smaller portion of test data\n",
    "                                                     callbacks=[model_checkpoint, early_stopping_callback]) # save best model weights to file"
   ]
  },
  {
   "cell_type": "markdown",
   "metadata": {},
   "source": [
    "## Model 2 - Evaluation"
   ]
  },
  {
   "cell_type": "code",
   "execution_count": 32,
   "metadata": {},
   "outputs": [
    {
     "name": "stdout",
     "output_type": "stream",
     "text": [
      "790/790 [==============================] - 55s 70ms/step - loss: 1.5145 - accuracy: 0.5944\n"
     ]
    },
    {
     "data": {
      "text/plain": [
       "[1.5144678354263306, 0.5944158434867859]"
      ]
     },
     "execution_count": 32,
     "metadata": {},
     "output_type": "execute_result"
    }
   ],
   "source": [
    "# Evaluate model \n",
    "results_feature_extraction_model_2 = model_2.evaluate(test_data)\n",
    "results_feature_extraction_model_2"
   ]
  },
  {
   "cell_type": "code",
   "execution_count": 33,
   "metadata": {},
   "outputs": [
    {
     "data": {
      "image/png": "[encoded data removed]",
      "text/plain": [
       "<Figure size 640x480 with 1 Axes>"
      ]
     },
     "metadata": {},
     "output_type": "display_data"
    },
    {
     "data": {
      "image/png": "[encoded data removed]",
      "text/plain": [
       "<Figure size 640x480 with 1 Axes>"
      ]
     },
     "metadata": {},
     "output_type": "display_data"
    }
   ],
   "source": [
    "plot_loss_curves(history_all_classes_10_percent_model_2)"
   ]
  },
  {
   "cell_type": "markdown",
   "metadata": {},
   "source": [
    "# Model 3\n",
    "global maximum layer"
   ]
  },
  {
   "cell_type": "code",
   "execution_count": 34,
   "metadata": {},
   "outputs": [],
   "source": [
    "# Setup base model and freeze its layers (this will extract features)\n",
    "base_model = tf.keras.applications.efficientnet_v2.EfficientNetV2B3(include_top=False)\n",
    "base_model.trainable = False\n",
    "\n",
    "# Setup model architecture with trainable top layers\n",
    "inputs = tf.keras.layers.Input(shape=INPUT_SHAPE, name=\"input_layer\") # shape of input image\n",
    "x = data_augmentation(inputs) # augment images (only happens during training)\n",
    "x = base_model(x, training=False) # put the base model in inference mode so we can use it to extract features without updating the weights\n",
    "#x = tf.keras.layers.GlobalAveragePooling2D(name=\"global_average_pooling\")(x) # pool the outputs of the base model\n",
    "x = tf.keras.layers.GlobalMaxPooling2D(name=\"global_max_pooling\")(x)\n",
    "x = tf.keras.layers.Dense(len(train_data_all_10_percent.class_names))(x)\n",
    "outputs = tf.keras.layers.Activation(\"softmax\", dtype=tf.float32, name=\"softmax_float32\")(x)\n",
    "\n",
    "model_3 = tf.keras.Model(inputs, outputs)"
   ]
  },
  {
   "cell_type": "code",
   "execution_count": 35,
   "metadata": {},
   "outputs": [
    {
     "name": "stdout",
     "output_type": "stream",
     "text": [
      "Model: \"model_4\"\n",
      "_________________________________________________________________\n",
      " Layer (type)                Output Shape              Param #   \n",
      "=================================================================\n",
      " input_layer (InputLayer)    [(None, 224, 224, 3)]     0         \n",
      "                                                                 \n",
      " data_augmentation (Sequent  (None, None, None, 3)     0         \n",
      " ial)                                                            \n",
      "                                                                 \n",
      " efficientnetv2-b3 (Functio  (None, None, None, 1536   12930622  \n",
      " nal)                        )                                   \n",
      "                                                                 \n",
      " global_max_pooling (Global  (None, 1536)              0         \n",
      " MaxPooling2D)                                                   \n",
      "                                                                 \n",
      " dense_4 (Dense)             (None, 101)               155237    \n",
      "                                                                 \n",
      " softmax_float32 (Activatio  (None, 101)               0         \n",
      " n)                                                              \n",
      "                                                                 \n",
      "=================================================================\n",
      "Total params: 13085859 (49.92 MB)\n",
      "Trainable params: 155237 (606.39 KB)\n",
      "Non-trainable params: 12930622 (49.33 MB)\n",
      "_________________________________________________________________\n"
     ]
    }
   ],
   "source": [
    "model_3.summary()"
   ]
  },
  {
   "cell_type": "code",
   "execution_count": 40,
   "metadata": {},
   "outputs": [],
   "source": [
    "# Create ModelCheckpoint callback to save model's progress\n",
    "checkpoint_path = \"101_classes_10_percent_data_model_3_checkpoint/cp.ckpt\" # saving weights requires \".ckpt\" extension\n",
    "model_checkpoint = tf.keras.callbacks.ModelCheckpoint(checkpoint_path,\n",
    "                                                      monitor=\"val_accuracy\", # save the model weights with best validation accuracy\n",
    "                                                      save_best_only=True, # only save the best weights\n",
    "                                                      save_weights_only=True, # only save model weights (not whole model)\n",
    "                                                      verbose=1) # don't print out whether or not model is being saved\n",
    "\n",
    "early_stopping_callback = tf.keras.callbacks.EarlyStopping(monitor='val_loss', patience=3)"
   ]
  },
  {
   "cell_type": "code",
   "execution_count": 41,
   "metadata": {},
   "outputs": [
    {
     "name": "stdout",
     "output_type": "stream",
     "text": [
      "Epoch 1/20\n",
      "237/237 [==============================] - ETA: 0s - loss: 5.3423 - accuracy: 0.1360\n",
      "Epoch 1: val_accuracy improved from -inf to 0.25514, saving model to 101_classes_10_percent_data_model_3_checkpoint/cp.ckpt\n",
      "237/237 [==============================] - 74s 247ms/step - loss: 5.3423 - accuracy: 0.1360 - val_loss: 3.7666 - val_accuracy: 0.2551\n",
      "Epoch 2/20\n",
      "237/237 [==============================] - ETA: 0s - loss: 3.4822 - accuracy: 0.3038\n",
      "Epoch 2: val_accuracy improved from 0.25514 to 0.36076, saving model to 101_classes_10_percent_data_model_3_checkpoint/cp.ckpt\n",
      "237/237 [==============================] - 55s 230ms/step - loss: 3.4822 - accuracy: 0.3038 - val_loss: 3.1907 - val_accuracy: 0.3608\n",
      "Epoch 3/20\n",
      "237/237 [==============================] - ETA: 0s - loss: 3.1025 - accuracy: 0.3702\n",
      "Epoch 3: val_accuracy improved from 0.36076 to 0.40928, saving model to 101_classes_10_percent_data_model_3_checkpoint/cp.ckpt\n",
      "237/237 [==============================] - 53s 224ms/step - loss: 3.1025 - accuracy: 0.3702 - val_loss: 3.0019 - val_accuracy: 0.4093\n",
      "Epoch 4/20\n",
      "237/237 [==============================] - ETA: 0s - loss: 2.8101 - accuracy: 0.4169\n",
      "Epoch 4: val_accuracy did not improve from 0.40928\n",
      "237/237 [==============================] - 50s 207ms/step - loss: 2.8101 - accuracy: 0.4169 - val_loss: 3.1398 - val_accuracy: 0.3887\n",
      "Epoch 5/20\n",
      "237/237 [==============================] - ETA: 0s - loss: 2.5811 - accuracy: 0.4507\n",
      "Epoch 5: val_accuracy improved from 0.40928 to 0.44673, saving model to 101_classes_10_percent_data_model_3_checkpoint/cp.ckpt\n",
      "237/237 [==============================] - 51s 213ms/step - loss: 2.5811 - accuracy: 0.4507 - val_loss: 2.8307 - val_accuracy: 0.4467\n",
      "Epoch 6/20\n",
      "237/237 [==============================] - ETA: 0s - loss: 2.5023 - accuracy: 0.4833\n",
      "Epoch 6: val_accuracy did not improve from 0.44673\n",
      "237/237 [==============================] - 50s 210ms/step - loss: 2.5023 - accuracy: 0.4833 - val_loss: 2.8411 - val_accuracy: 0.4299\n",
      "Epoch 7/20\n",
      "237/237 [==============================] - ETA: 0s - loss: 2.2783 - accuracy: 0.5057\n",
      "Epoch 7: val_accuracy did not improve from 0.44673\n",
      "237/237 [==============================] - 49s 205ms/step - loss: 2.2783 - accuracy: 0.5057 - val_loss: 2.9135 - val_accuracy: 0.4461\n",
      "Epoch 8/20\n",
      "237/237 [==============================] - ETA: 0s - loss: 2.2074 - accuracy: 0.5167\n",
      "Epoch 8: val_accuracy improved from 0.44673 to 0.45161, saving model to 101_classes_10_percent_data_model_3_checkpoint/cp.ckpt\n",
      "237/237 [==============================] - 51s 213ms/step - loss: 2.2074 - accuracy: 0.5167 - val_loss: 3.0479 - val_accuracy: 0.4516\n"
     ]
    }
   ],
   "source": [
    "# Compile\n",
    "model_3.compile(loss=\"categorical_crossentropy\",\n",
    "              optimizer=tf.keras.optimizers.legacy.Adam(),\n",
    "              metrics=[\"accuracy\"])\n",
    "\n",
    "# Fit\n",
    "history_all_classes_10_percent_model_2 = model_3.fit(train_data_all_10_percent,\n",
    "                                                     epochs=20, # fit for 5 epochs to keep experiments quick\n",
    "                                                     validation_data=test_data,\n",
    "                                                     validation_steps=int(0.3 * len(test_data)), # evaluate on smaller portion of test data\n",
    "                                                     callbacks=[model_checkpoint, early_stopping_callback]) # save best model weights to file"
   ]
  },
  {
   "cell_type": "code",
   "execution_count": 43,
   "metadata": {},
   "outputs": [
    {
     "name": "stdout",
     "output_type": "stream",
     "text": [
      "790/790 [==============================] - 55s 69ms/step - loss: 2.6332 - accuracy: 0.4912\n"
     ]
    },
    {
     "data": {
      "text/plain": [
       "[2.6332106590270996, 0.49120792746543884]"
      ]
     },
     "execution_count": 43,
     "metadata": {},
     "output_type": "execute_result"
    }
   ],
   "source": [
    "# Evaluate model \n",
    "results_feature_extraction_model_3 = model_3.evaluate(test_data)\n",
    "results_feature_extraction_model_3"
   ]
  },
  {
   "cell_type": "markdown",
   "metadata": {},
   "source": [
    "### Dropout layer - exp"
   ]
  },
  {
   "cell_type": "code",
   "execution_count": 2,
   "metadata": {},
   "outputs": [],
   "source": [
    "# remove system logs\n",
    "import os\n",
    "os.environ[\"TF_CPP_MIN_LOG_LEVEL\"] = \"3\" # or any {\"0\", \"1\", \"2\"}"
   ]
  },
  {
   "cell_type": "code",
   "execution_count": 7,
   "metadata": {},
   "outputs": [
    {
     "name": "stdout",
     "output_type": "stream",
     "text": [
      "INFO:tensorflow:Mixed precision compatibility check (mixed_float16): OK\n",
      "Your GPU will likely run quickly with dtype policy mixed_float16 as it has compute capability of at least 7.0. Your GPU: NVIDIA GeForce RTX 3070, compute capability 8.6\n"
     ]
    },
    {
     "name": "stderr",
     "output_type": "stream",
     "text": [
      "2023-08-22 19:31:09.204861: I tensorflow/compiler/xla/stream_executor/cuda/cuda_gpu_executor.cc:981] could not open file to read NUMA node: /sys/bus/pci/devices/0000:03:00.0/numa_node\n",
      "Your kernel may have been built without NUMA support.\n"
     ]
    },
    {
     "data": {
      "text/plain": [
       "<Policy \"mixed_float16\">"
      ]
     },
     "execution_count": 7,
     "metadata": {},
     "output_type": "execute_result"
    }
   ],
   "source": [
    "tf.keras.mixed_precision.set_global_policy(policy=\"mixed_float16\")\n",
    "tf.keras.mixed_precision.global_policy()"
   ]
  },
  {
   "cell_type": "code",
   "execution_count": 6,
   "metadata": {},
   "outputs": [],
   "source": [
    "\n",
    "data_augmentation = tf.keras.Sequential([\n",
    "  tf.keras.layers.RandomFlip(\"horizontal\"),\n",
    "  tf.keras.layers.RandomRotation(0.2),\n",
    "  tf.keras.layers.RandomZoom(0.2),\n",
    "  tf.keras.layers.RandomHeight(0.2),\n",
    "  tf.keras.layers.RandomWidth(0.2),\n",
    "  # preprocessing.Rescaling(1./255) # keep for ResNet50V2, remove for EfficientNetB0\n",
    "], name =\"data_augmentation\")"
   ]
  },
  {
   "cell_type": "code",
   "execution_count": 3,
   "metadata": {},
   "outputs": [
    {
     "name": "stdout",
     "output_type": "stream",
     "text": [
      "Found 7575 files belonging to 101 classes.\n",
      "Found 25250 files belonging to 101 classes.\n"
     ]
    }
   ],
   "source": [
    "\n",
    "data_dir = \"/mnt/d/DATA/Food_vision_10_percent/\"\n",
    "train_dir = data_dir + \"101_food_classes_10_percent/train/\"\n",
    "test_dir = data_dir + \"101_food_classes_10_percent/test/\"\n",
    "\n",
    "# Setup data inputs\n",
    "import tensorflow as tf\n",
    "IMG_SIZE = (224, 224)\n",
    "train_data_all_10_percent = tf.keras.preprocessing.image_dataset_from_directory(train_dir,\n",
    "                                                                                label_mode=\"categorical\",\n",
    "                                                                                image_size=IMG_SIZE)\n",
    "                                                                                \n",
    "test_data = tf.keras.preprocessing.image_dataset_from_directory(test_dir,\n",
    "                                                                label_mode=\"categorical\",\n",
    "                                                                image_size=IMG_SIZE,\n",
    "                                                                shuffle=False) # don't shuffle test data for prediction "
   ]
  },
  {
   "cell_type": "markdown",
   "metadata": {},
   "source": [
    "## Model 4"
   ]
  },
  {
   "cell_type": "code",
   "execution_count": 8,
   "metadata": {},
   "outputs": [],
   "source": [
    "INPUT_SHAPE = (224, 224, 3)\n",
    "\n",
    "# Setup base model and freeze its layers (this will extract features)\n",
    "base_model = tf.keras.applications.efficientnet_v2.EfficientNetV2B3(include_top=False)\n",
    "base_model.trainable = False\n",
    "\n",
    "# Setup model architecture with trainable top layers\n",
    "inputs = tf.keras.layers.Input(shape=INPUT_SHAPE, name=\"input_layer\") # shape of input image\n",
    "x = data_augmentation(inputs) # augment images (only happens during training)\n",
    "x = base_model(x, training=False) # put the base model in inference mode so we can use it to extract features without updating the weights\n",
    "#x = tf.keras.layers.GlobalAveragePooling2D(name=\"global_average_pooling\")(x) # pool the outputs of the base model\n",
    "x = tf.keras.layers.GlobalAveragePooling2D(name=\"global_average_2D\")(x)\n",
    "x = tf.keras.layers.Dropout(0.2, name=\"dropout_layer\")(x)\n",
    "x = tf.keras.layers.Dense(len(train_data_all_10_percent.class_names))(x)\n",
    "outputs = tf.keras.layers.Activation(\"softmax\", dtype=tf.float32, name=\"softmax_float32\")(x)\n",
    "\n",
    "model_4 = tf.keras.Model(inputs, outputs)"
   ]
  },
  {
   "cell_type": "code",
   "execution_count": 9,
   "metadata": {},
   "outputs": [],
   "source": [
    "# Create ModelCheckpoint callback to save model's progress\n",
    "checkpoint_path = \"101_classes_10_percent_data_model_4_checkpoint/cp.ckpt\" # saving weights requires \".ckpt\" extension\n",
    "model_checkpoint = tf.keras.callbacks.ModelCheckpoint(checkpoint_path,\n",
    "                                                      monitor=\"val_accuracy\", # save the model weights with best validation accuracy\n",
    "                                                      save_best_only=True, # only save the best weights\n",
    "                                                      save_weights_only=True, # only save model weights (not whole model)\n",
    "                                                      verbose=1) # don't print out whether or not model is being saved\n",
    "\n",
    "early_stopping_callback = tf.keras.callbacks.EarlyStopping(monitor='val_loss', patience=3)\n",
    "\n",
    "# Compile\n",
    "model_4.compile(loss=\"categorical_crossentropy\",\n",
    "              optimizer=tf.keras.optimizers.legacy.Adam(),\n",
    "              metrics=[\"accuracy\"])"
   ]
  },
  {
   "cell_type": "code",
   "execution_count": 10,
   "metadata": {},
   "outputs": [
    {
     "name": "stdout",
     "output_type": "stream",
     "text": [
      "Epoch 1/20\n"
     ]
    },
    {
     "name": "stderr",
     "output_type": "stream",
     "text": [
      "2023-08-22 19:32:42.371088: I tensorflow/compiler/xla/stream_executor/cuda/cuda_dnn.cc:432] Loaded cuDNN version 8600\n"
     ]
    },
    {
     "name": "stdout",
     "output_type": "stream",
     "text": [
      "237/237 [==============================] - ETA: 0s - loss: 3.4642 - accuracy: 0.2389\n",
      "Epoch 1: val_accuracy improved from -inf to 0.39425, saving model to 101_classes_10_percent_data_model_4_checkpoint/cp.ckpt\n",
      "237/237 [==============================] - 168s 618ms/step - loss: 3.4642 - accuracy: 0.2389 - val_loss: 2.5109 - val_accuracy: 0.3943\n",
      "Epoch 2/20\n",
      "237/237 [==============================] - ETA: 0s - loss: 2.3947 - accuracy: 0.4329\n",
      "Epoch 2: val_accuracy improved from 0.39425 to 0.46268, saving model to 101_classes_10_percent_data_model_4_checkpoint/cp.ckpt\n",
      "237/237 [==============================] - 112s 468ms/step - loss: 2.3947 - accuracy: 0.4329 - val_loss: 2.0955 - val_accuracy: 0.4627\n",
      "Epoch 3/20\n",
      "237/237 [==============================] - ETA: 0s - loss: 2.0373 - accuracy: 0.5056\n",
      "Epoch 3: val_accuracy improved from 0.46268 to 0.50514, saving model to 101_classes_10_percent_data_model_4_checkpoint/cp.ckpt\n",
      "237/237 [==============================] - 99s 414ms/step - loss: 2.0373 - accuracy: 0.5056 - val_loss: 1.8881 - val_accuracy: 0.5051\n",
      "Epoch 4/20\n",
      "237/237 [==============================] - ETA: 0s - loss: 1.8365 - accuracy: 0.5365\n",
      "Epoch 4: val_accuracy improved from 0.50514 to 0.51398, saving model to 101_classes_10_percent_data_model_4_checkpoint/cp.ckpt\n",
      "237/237 [==============================] - 98s 410ms/step - loss: 1.8365 - accuracy: 0.5365 - val_loss: 1.8219 - val_accuracy: 0.5140\n",
      "Epoch 5/20\n",
      "237/237 [==============================] - ETA: 0s - loss: 1.7193 - accuracy: 0.5711\n",
      "Epoch 5: val_accuracy improved from 0.51398 to 0.52888, saving model to 101_classes_10_percent_data_model_4_checkpoint/cp.ckpt\n",
      "237/237 [==============================] - 82s 342ms/step - loss: 1.7193 - accuracy: 0.5711 - val_loss: 1.7587 - val_accuracy: 0.5289\n",
      "Epoch 6/20\n",
      "237/237 [==============================] - ETA: 0s - loss: 1.6243 - accuracy: 0.5831\n",
      "Epoch 6: val_accuracy improved from 0.52888 to 0.54153, saving model to 101_classes_10_percent_data_model_4_checkpoint/cp.ckpt\n",
      "237/237 [==============================] - 79s 333ms/step - loss: 1.6243 - accuracy: 0.5831 - val_loss: 1.7044 - val_accuracy: 0.5415\n",
      "Epoch 7/20\n",
      "237/237 [==============================] - ETA: 0s - loss: 1.5302 - accuracy: 0.6132\n",
      "Epoch 7: val_accuracy improved from 0.54153 to 0.54233, saving model to 101_classes_10_percent_data_model_4_checkpoint/cp.ckpt\n",
      "237/237 [==============================] - 73s 307ms/step - loss: 1.5302 - accuracy: 0.6132 - val_loss: 1.7016 - val_accuracy: 0.5423\n",
      "Epoch 8/20\n",
      "237/237 [==============================] - ETA: 0s - loss: 1.4550 - accuracy: 0.6305\n",
      "Epoch 8: val_accuracy did not improve from 0.54233\n",
      "237/237 [==============================] - 70s 294ms/step - loss: 1.4550 - accuracy: 0.6305 - val_loss: 1.6955 - val_accuracy: 0.5410\n",
      "Epoch 9/20\n",
      "237/237 [==============================] - ETA: 0s - loss: 1.3978 - accuracy: 0.6364\n",
      "Epoch 9: val_accuracy improved from 0.54233 to 0.55182, saving model to 101_classes_10_percent_data_model_4_checkpoint/cp.ckpt\n",
      "237/237 [==============================] - 66s 275ms/step - loss: 1.3978 - accuracy: 0.6364 - val_loss: 1.6515 - val_accuracy: 0.5518\n",
      "Epoch 10/20\n",
      "237/237 [==============================] - ETA: 0s - loss: 1.3350 - accuracy: 0.6533\n",
      "Epoch 10: val_accuracy did not improve from 0.55182\n",
      "237/237 [==============================] - 59s 248ms/step - loss: 1.3350 - accuracy: 0.6533 - val_loss: 1.6727 - val_accuracy: 0.5502\n",
      "Epoch 11/20\n",
      "237/237 [==============================] - ETA: 0s - loss: 1.2999 - accuracy: 0.6594\n",
      "Epoch 11: val_accuracy did not improve from 0.55182\n",
      "237/237 [==============================] - 62s 259ms/step - loss: 1.2999 - accuracy: 0.6594 - val_loss: 1.6638 - val_accuracy: 0.5504\n",
      "Epoch 12/20\n",
      "237/237 [==============================] - ETA: 0s - loss: 1.2397 - accuracy: 0.6785\n",
      "Epoch 12: val_accuracy improved from 0.55182 to 0.55393, saving model to 101_classes_10_percent_data_model_4_checkpoint/cp.ckpt\n",
      "237/237 [==============================] - 60s 251ms/step - loss: 1.2397 - accuracy: 0.6785 - val_loss: 1.6561 - val_accuracy: 0.5539\n"
     ]
    }
   ],
   "source": [
    "# Fit\n",
    "history_all_classes_10_percent_model_4 = model_4.fit(train_data_all_10_percent,\n",
    "                                                     epochs=20, # fit for 5 epochs to keep experiments quick\n",
    "                                                     validation_data=test_data,\n",
    "                                                     validation_steps=int(0.3 * len(test_data)), # evaluate on smaller portion of test data\n",
    "                                                     callbacks=[model_checkpoint, early_stopping_callback]) # save best model weights to file"
   ]
  },
  {
   "cell_type": "markdown",
   "metadata": {},
   "source": [
    "## Model 4 Evaluation"
   ]
  },
  {
   "cell_type": "code",
   "execution_count": 11,
   "metadata": {},
   "outputs": [
    {
     "name": "stdout",
     "output_type": "stream",
     "text": [
      "790/790 [==============================] - 56s 71ms/step - loss: 1.5326 - accuracy: 0.5887\n"
     ]
    },
    {
     "data": {
      "text/plain": [
       "[1.5325636863708496, 0.5886732935905457]"
      ]
     },
     "execution_count": 11,
     "metadata": {},
     "output_type": "execute_result"
    }
   ],
   "source": [
    "resualts_model_4 = model_4.evaluate(test_data)\n",
    "resualts_model_4"
   ]
  },
  {
   "cell_type": "markdown",
   "metadata": {},
   "source": [
    "## Model Comparison\n",
    "\n",
    "| Model                 | Loss  | Accuracy  | Description                                               | Augmentation  | Trainable params  |\n",
    "|-----------------------|:-----:|:---------:|-----------------------------------------------------------|:-------------:|:-----------------:|\n",
    "| 1 - EfficientNetB0    | 1.609 | 0.568     | Basic model                                               | yes           | 176997            |\n",
    "| 2 - EfficientNetV2B3  | 1.514 | 0.594     | Cahnge to EfficientNetV2B3                                | yes           | 155237            |\n",
    "| 3 - Global layer      | 2.633 | 0.491     | Change the global avarage layer to global maximum layer   | yes           | 155237            |\n",
    "| 4 - Dropout           | 1.532 | 0.588     | add dropout layer                                         | yes           | 155237            |"
   ]
  }
 ],
 "metadata": {
  "kernelspec": {
   "display_name": "tf2",
   "language": "python",
   "name": "python3"
  },
  "language_info": {
   "codemirror_mode": {
    "name": "ipython",
    "version": 3
   },
   "file_extension": ".py",
   "mimetype": "text/x-python",
   "name": "python",
   "nbconvert_exporter": "python",
   "pygments_lexer": "ipython3",
   "version": "3.9.17"
  },
  "orig_nbformat": 4
 },
 "nbformat": 4,
 "nbformat_minor": 2
}
